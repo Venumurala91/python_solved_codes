{
  "nbformat": 4,
  "nbformat_minor": 0,
  "metadata": {
    "colab": {
      "provenance": [],
      "authorship_tag": "ABX9TyOCOwnMlQ3BjkNrbAlALwzd",
      "include_colab_link": true
    },
    "kernelspec": {
      "name": "python3",
      "display_name": "Python 3"
    },
    "language_info": {
      "name": "python"
    }
  },
  "cells": [
    {
      "cell_type": "markdown",
      "metadata": {
        "id": "view-in-github",
        "colab_type": "text"
      },
      "source": [
        "<a href=\"https://colab.research.google.com/github/Venumurala91/python_solved_codes/blob/main/python_practice_problems.ipynb\" target=\"_parent\"><img src=\"https://colab.research.google.com/assets/colab-badge.svg\" alt=\"Open In Colab\"/></a>"
      ]
    },
    {
      "cell_type": "code",
      "execution_count": null,
      "metadata": {
        "colab": {
          "base_uri": "https://localhost:8080/"
        },
        "id": "dbmnLfPnLETy",
        "outputId": "80461e80-d0fc-4e18-d166-48138e537981"
      },
      "outputs": [
        {
          "output_type": "stream",
          "name": "stdout",
          "text": [
            "10\n",
            "<class 'decimal.Decimal'>\n"
          ]
        }
      ],
      "source": [
        "import decimal\n",
        "integer=10\n",
        "print(decimal.Decimal(integer))\n",
        "print(type(decimal.Decimal(integer)))"
      ]
    },
    {
      "cell_type": "code",
      "source": [
        "\n",
        "\n",
        "lis=[\"p\",\"y\",\"t\",\"h\",\"o\",\"n\"]\n",
        "\n",
        "j=\"\".join(lis)\n",
        "print(j)"
      ],
      "metadata": {
        "colab": {
          "base_uri": "https://localhost:8080/"
        },
        "id": "KLolWyCHLzFv",
        "outputId": "8a06812b-9231-4329-d7fb-6f993246905f"
      },
      "execution_count": null,
      "outputs": [
        {
          "output_type": "stream",
          "name": "stdout",
          "text": [
            "python\n"
          ]
        }
      ]
    },
    {
      "cell_type": "code",
      "source": [
        "str1=\"Listen           \"\n",
        "str2=\"silent\"\n",
        "r=str1.rstrip()\n",
        "print(r)\n",
        "str1=str1.replace(\" \",\"\").upper()\n",
        "str2=str2.replace(\" \",\"\").upper()\n",
        "\n",
        "print(sorted(str1))\n",
        "print(sorted(str2))"
      ],
      "metadata": {
        "colab": {
          "base_uri": "https://localhost:8080/"
        },
        "id": "-h187UBHNI7N",
        "outputId": "9d38fcf3-e364-47c9-d001-0ce95c51d9e5"
      },
      "execution_count": null,
      "outputs": [
        {
          "output_type": "stream",
          "name": "stdout",
          "text": [
            "Listen\n"
          ]
        }
      ]
    },
    {
      "cell_type": "code",
      "source": [
        "a=0\n",
        "b=1\n",
        "\n",
        "for i in range(10):\n",
        "  temp=a\n",
        "  a=b\n",
        "  b=temp+a\n",
        "  print(temp,end=\" \")\n",
        "\n"
      ],
      "metadata": {
        "colab": {
          "base_uri": "https://localhost:8080/"
        },
        "id": "miAMe1aTOhsj",
        "outputId": "12c3cf75-2b6d-4eab-e93c-dca1e14b3e12"
      },
      "execution_count": null,
      "outputs": [
        {
          "output_type": "stream",
          "name": "stdout",
          "text": [
            "0 1 1 2 3 5 8 13 21 34 "
          ]
        }
      ]
    },
    {
      "cell_type": "code",
      "source": [
        "import re\n",
        "\n",
        "name='Python is 1'\n",
        "digitcount=len(re.findall(r'\\d',name))\n",
        "print(digitcount)\n",
        "\n",
        "d=re.sub(\"[^0-9]\",\"\",name)\n",
        "print(d)\n",
        "\n",
        "\n"
      ],
      "metadata": {
        "colab": {
          "base_uri": "https://localhost:8080/"
        },
        "id": "p0pCokCDRwfN",
        "outputId": "a60030bf-e87b-49c6-a0cc-0ba94ddd39a8"
      },
      "execution_count": null,
      "outputs": [
        {
          "output_type": "stream",
          "name": "stdout",
          "text": [
            "1\n",
            "1\n"
          ]
        }
      ]
    },
    {
      "cell_type": "code",
      "source": [
        "s=\"P Y T H O N\"\n",
        "\n",
        "\n",
        "c=s.replace(\" \",\"\")\n",
        "print(c)"
      ],
      "metadata": {
        "colab": {
          "base_uri": "https://localhost:8080/"
        },
        "id": "5uKgfpBTTASm",
        "outputId": "c71e2e42-dc04-4093-b0b0-2027ef65fccf"
      },
      "execution_count": null,
      "outputs": [
        {
          "output_type": "stream",
          "name": "stdout",
          "text": [
            "PYTHON\n"
          ]
        }
      ]
    },
    {
      "cell_type": "code",
      "source": [
        "def pyramid(n):\n",
        "  for i in range(n):\n",
        "    print(\" \",end=\"\")\n",
        "\n",
        "  for j in range(i,n):\n",
        "    print(\"*\",end=\"\")\n",
        "\n",
        "  for j in range(i):\n",
        "    print(\"*\",end=\"\")\n",
        "\n",
        "  print(\"\")\n",
        "\n",
        "\n",
        "pyramid(5)"
      ],
      "metadata": {
        "colab": {
          "base_uri": "https://localhost:8080/"
        },
        "id": "R_AIokM1T2kY",
        "outputId": "e0ad8996-b87a-4376-9d72-7a966ffbc2fb"
      },
      "execution_count": null,
      "outputs": [
        {
          "output_type": "stream",
          "name": "stdout",
          "text": [
            "     *****\n"
          ]
        }
      ]
    },
    {
      "cell_type": "code",
      "source": [
        "rows = 5  # You can change this to make a bigger or smaller pyramid\n",
        "\n",
        "for i in range(1, rows + 1):\n",
        "    # Print spaces\n",
        "    print(\" \" * (rows - i), end=\"\")\n",
        "    # Print stars\n",
        "    print(\"*\" * (2 * i - 1))\n"
      ],
      "metadata": {
        "colab": {
          "base_uri": "https://localhost:8080/"
        },
        "id": "Mhk51RbkUycu",
        "outputId": "da23896d-ef30-4e33-91f4-288691f01d34"
      },
      "execution_count": null,
      "outputs": [
        {
          "output_type": "stream",
          "name": "stdout",
          "text": [
            "    *\n",
            "   ***\n",
            "  *****\n",
            " *******\n",
            "*********\n"
          ]
        }
      ]
    },
    {
      "cell_type": "code",
      "source": [
        "\n",
        "# A simple decorator function\n",
        "def decorator(func):\n",
        "\n",
        "    def wrapper():\n",
        "        print(\"Before calling the function.\")\n",
        "        func()\n",
        "        print(\"After calling the function.\")\n",
        "    return wrapper\n",
        "\n",
        "# Applying the decorator to a function\n",
        "@decorator\n",
        "def greet():\n",
        "    print(\"Hello, World!\")\n",
        "\n",
        "greet()\n",
        "\n",
        "\n"
      ],
      "metadata": {
        "colab": {
          "base_uri": "https://localhost:8080/"
        },
        "id": "MsmqjKmIT4oh",
        "outputId": "dbd4fe1c-9502-4870-d001-721e7bbe93cf"
      },
      "execution_count": null,
      "outputs": [
        {
          "output_type": "stream",
          "name": "stdout",
          "text": [
            "Before calling the function.\n",
            "Hello, World!\n",
            "After calling the function.\n"
          ]
        }
      ]
    },
    {
      "cell_type": "code",
      "source": [
        "\n"
      ],
      "metadata": {
        "id": "ZOdoOhwCe95X"
      },
      "execution_count": null,
      "outputs": []
    },
    {
      "cell_type": "code",
      "source": [
        "\n",
        "def decorator(func):\n",
        "    def wrapper(*args, **kwargs):\n",
        "        print(\"Before calling the function.\")\n",
        "        result = func(*args, **kwargs)\n",
        "        c=5\n",
        "        d=result+5\n",
        "        print(\"After calling the function.\")\n",
        "        return d\n",
        "    return wrapper\n",
        "@decorator\n",
        "def add(a,b):\n",
        "  return a+b\n",
        "\n",
        "add(4,5)"
      ],
      "metadata": {
        "colab": {
          "base_uri": "https://localhost:8080/"
        },
        "id": "LNKEnFxGe-El",
        "outputId": "68a5a5ec-7df6-4230-d279-de405b9b3273"
      },
      "execution_count": null,
      "outputs": [
        {
          "output_type": "stream",
          "name": "stdout",
          "text": [
            "Before calling the function.\n",
            "After calling the function.\n"
          ]
        },
        {
          "output_type": "execute_result",
          "data": {
            "text/plain": [
              "14"
            ]
          },
          "metadata": {},
          "execution_count": 33
        }
      ]
    },
    {
      "cell_type": "code",
      "source": [
        "rows = 5\n",
        "for i in range(1, rows + 1):\n",
        "    print(\" \" * (rows - i) + \"*\" * (2 * i - 1))\n"
      ],
      "metadata": {
        "colab": {
          "base_uri": "https://localhost:8080/"
        },
        "id": "XIbmkvFFRKhr",
        "outputId": "a9c5425a-fcef-413b-9ad8-f101a5560f29"
      },
      "execution_count": null,
      "outputs": [
        {
          "output_type": "stream",
          "name": "stdout",
          "text": [
            "    *\n",
            "   ***\n",
            "  *****\n",
            " *******\n",
            "*********\n"
          ]
        }
      ]
    },
    {
      "cell_type": "code",
      "source": [
        "rows = 5\n",
        "for i in range(1, rows + 1):\n",
        "    print(\"*\" * i)\n"
      ],
      "metadata": {
        "colab": {
          "base_uri": "https://localhost:8080/"
        },
        "id": "h1CivjqTRNNd",
        "outputId": "0fad62a1-7560-4aad-e987-1f13c0a0e863"
      },
      "execution_count": null,
      "outputs": [
        {
          "output_type": "stream",
          "name": "stdout",
          "text": [
            "*\n",
            "**\n",
            "***\n",
            "****\n",
            "*****\n"
          ]
        }
      ]
    },
    {
      "cell_type": "code",
      "source": [
        "rows = 5\n",
        "for i in range(rows, 0, -1):\n",
        "    print(\"*\" * i)\n"
      ],
      "metadata": {
        "colab": {
          "base_uri": "https://localhost:8080/"
        },
        "id": "Tw6EWODMRzdl",
        "outputId": "b5c5ffce-93db-42ce-9209-0c9a9a1ae2f3"
      },
      "execution_count": null,
      "outputs": [
        {
          "output_type": "stream",
          "name": "stdout",
          "text": [
            "*****\n",
            "****\n",
            "***\n",
            "**\n",
            "*\n"
          ]
        }
      ]
    },
    {
      "cell_type": "code",
      "source": [
        "rows = 5\n",
        "for i in range(1, rows + 1):\n",
        "    print(\" \" * (rows - i), end=\"\")\n",
        "    print(str(i) * (2 * i - 1))\n"
      ],
      "metadata": {
        "colab": {
          "base_uri": "https://localhost:8080/"
        },
        "id": "zc-cQ-kMR5dB",
        "outputId": "4492593b-b694-4273-891c-dd9cdffe01e8"
      },
      "execution_count": null,
      "outputs": [
        {
          "output_type": "stream",
          "name": "stdout",
          "text": [
            "    1\n",
            "   222\n",
            "  33333\n",
            " 4444444\n",
            "555555555\n"
          ]
        }
      ]
    },
    {
      "cell_type": "code",
      "source": [
        "rows = 5\n",
        "\n",
        "# Upper part\n",
        "for i in range(1, rows + 1):\n",
        "    print(\" \" * (rows - i) + \"*\" * (2 * i - 1))\n",
        "\n",
        "# Lower part\n",
        "for i in range(rows - 1, 0, -1):\n",
        "    print(\" \" * (rows - i) + \"*\" * (2 * i - 1))\n"
      ],
      "metadata": {
        "colab": {
          "base_uri": "https://localhost:8080/"
        },
        "id": "LwfTNR1_R-kk",
        "outputId": "347b1ca1-87fc-4470-97fa-8ea48d88b877"
      },
      "execution_count": null,
      "outputs": [
        {
          "output_type": "stream",
          "name": "stdout",
          "text": [
            "    *\n",
            "   ***\n",
            "  *****\n",
            " *******\n",
            "*********\n",
            " *******\n",
            "  *****\n",
            "   ***\n",
            "    *\n"
          ]
        }
      ]
    },
    {
      "cell_type": "code",
      "source": [
        "import numpy as np\n",
        "import pandas as pd\n",
        "\n"
      ],
      "metadata": {
        "id": "o8r02UyVjjao"
      },
      "execution_count": null,
      "outputs": []
    },
    {
      "cell_type": "code",
      "source": [
        "# Function to check whether any pair exists\n",
        "# whose sum is equal to the given target value\n",
        "def twoSum(arr, target):\n",
        "    n = len(arr)\n",
        "\n",
        "    # Iterate through each element in the array\n",
        "    for i in range(n):\n",
        "\n",
        "        # For each element arr[i], check every\n",
        "        # other element arr[j] that comes after it\n",
        "        for j in range(i + 1, n):\n",
        "\n",
        "            # Check if the sum of the current pair\n",
        "            # equals the target\n",
        "            if arr[i] + arr[j] == target:\n",
        "                return True\n",
        "\n",
        "    # If no pair is found after checking\n",
        "    # all possibilities\n",
        "    return False\n",
        "\n",
        "if __name__ == \"__main__\":\n",
        "    arr = [0, -1, 2, -3, 1]\n",
        "    target = -2\n",
        "\n",
        "    if twoSum(arr, target):\n",
        "        print(\"true\")\n",
        "    else:\n",
        "        print(\"false\")\n"
      ],
      "metadata": {
        "colab": {
          "base_uri": "https://localhost:8080/"
        },
        "id": "oFrfz5iojnbz",
        "outputId": "98201747-8a61-46ed-c420-9d1ddbf35f7d"
      },
      "execution_count": 1,
      "outputs": [
        {
          "output_type": "stream",
          "name": "stdout",
          "text": [
            "true\n"
          ]
        }
      ]
    },
    {
      "cell_type": "code",
      "source": [],
      "metadata": {
        "id": "UQo95gFuou5V"
      },
      "execution_count": 1,
      "outputs": []
    },
    {
      "cell_type": "code",
      "source": [],
      "metadata": {
        "id": "HwBMid7dwsbs"
      },
      "execution_count": 1,
      "outputs": []
    },
    {
      "cell_type": "code",
      "source": [],
      "metadata": {
        "id": "mowXjLCcoAuP"
      },
      "execution_count": 1,
      "outputs": []
    }
  ]
}