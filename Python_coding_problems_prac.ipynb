{
  "nbformat": 4,
  "nbformat_minor": 0,
  "metadata": {
    "colab": {
      "provenance": [],
      "authorship_tag": "ABX9TyOu2ht8lE1TOzFmwFcf9kKF",
      "include_colab_link": true
    },
    "kernelspec": {
      "name": "python3",
      "display_name": "Python 3"
    },
    "language_info": {
      "name": "python"
    }
  },
  "cells": [
    {
      "cell_type": "markdown",
      "metadata": {
        "id": "view-in-github",
        "colab_type": "text"
      },
      "source": [
        "<a href=\"https://colab.research.google.com/github/Venumurala91/python_solved_codes/blob/main/Python_coding_problems_prac.ipynb\" target=\"_parent\"><img src=\"https://colab.research.google.com/assets/colab-badge.svg\" alt=\"Open In Colab\"/></a>"
      ]
    },
    {
      "cell_type": "code",
      "execution_count": 48,
      "metadata": {
        "colab": {
          "base_uri": "https://localhost:8080/"
        },
        "id": "AB4htq_sG3m_",
        "outputId": "b1bf6bff-29f6-4436-ff00-8cc3b0ebec5a"
      },
      "outputs": [
        {
          "output_type": "stream",
          "name": "stdout",
          "text": [
            "[[1, 4, 7], [2, 5, 8], [3, 6, 9]]\n"
          ]
        }
      ],
      "source": [
        "# Input: [[1,2,3],[4,5,6],[7,8,9]] | Output: [[1,4,7],[2,5,8],[3,6,9]]\n",
        "\n",
        "\n",
        "\n",
        "\n",
        "l=[]\n",
        "# f=[[0],[2],[3]]\n",
        "# f[0].append(1)\n",
        "# f[0].append(2)\n",
        "# f[0].append(3)\n",
        "# f[1].append(4)\n",
        "# f[2].append(7)\n",
        "# print(f)\n",
        "# print(l)\n",
        "a=[[1,2,3],\n",
        " [4,5,6],\n",
        "  [7,8,9]]\n",
        "\n",
        "for i in range(len(a)):\n",
        "  c=[]\n",
        "  for j in range(len(a[i])):\n",
        "    c.append(a[j][i])\n",
        "\n",
        "  l.append(c)\n",
        "\n",
        "\n",
        "\n",
        "print(l)\n",
        "\n",
        "\n",
        "# O(n^2) time complexity\n",
        "\n",
        "\n"
      ]
    },
    {
      "cell_type": "code",
      "source": [
        "def transpose(matrix):\n",
        "    n = len(matrix)\n",
        "    m = len(matrix[0])\n",
        "\n",
        "    transposed = [[0 for j in range(n)] for i in range(m)]\n",
        "    print(transposed)\n",
        "\n",
        "    for i in range(n):\n",
        "        for j in range(m):\n",
        "            transposed[j][i] = matrix[i][j]\n",
        "\n",
        "    return transposed\n",
        "\n",
        "matrix = [[1,2,3],[4,5,6],[7,8,9]]\n",
        "print(transpose(matrix))\n"
      ],
      "metadata": {
        "colab": {
          "base_uri": "https://localhost:8080/"
        },
        "id": "lv6ai6s7Hf9Y",
        "outputId": "82613551-c9c4-4e23-e7a1-df39ac46d869"
      },
      "execution_count": 50,
      "outputs": [
        {
          "output_type": "stream",
          "name": "stdout",
          "text": [
            "[[0, 0, 0], [0, 0, 0], [0, 0, 0]]\n",
            "[[1, 4, 7], [2, 5, 8], [3, 6, 9]]\n"
          ]
        }
      ]
    },
    {
      "cell_type": "code",
      "source": [
        "# Input: s = “ab”, goal = “ba”\n",
        "\n",
        "\n",
        "def buddy_string(s,goal):\n",
        "    if len(s)!=len(goal):\n",
        "        return False\n",
        "    if s==goal[::-1]:\n",
        "        return True\n",
        "\n",
        "\n",
        "print(buddy_string(\"ab\",\"ba\"))\n"
      ],
      "metadata": {
        "colab": {
          "base_uri": "https://localhost:8080/"
        },
        "id": "PxQGdMA9R7t_",
        "outputId": "0700fcb1-cd0d-4174-c4f7-44edec08b13c"
      },
      "execution_count": 54,
      "outputs": [
        {
          "output_type": "stream",
          "name": "stdout",
          "text": [
            "True\n"
          ]
        }
      ]
    },
    {
      "cell_type": "code",
      "source": [
        "def check_two_sentence_diff(s1, s2):\n",
        "    s1_words = s1.split()\n",
        "    s2_words = s2.split()\n",
        "\n",
        "    if len(s1_words) != len(s2_words):\n",
        "        return False\n",
        "\n",
        "    return [s2_words[i] for i in range(len(s1_words)) if s1_words[i] != s2_words[i]]\n",
        "\n",
        "s1 = \"the quick brown fox jumps over the lazy dog\"\n",
        "s2 = \"the quick brown dog jumps over the lazy fox\"\n",
        "\n",
        "print(check_two_sentence_diff(s1, s2))  # Output: ['dog', 'fox']\n"
      ],
      "metadata": {
        "colab": {
          "base_uri": "https://localhost:8080/"
        },
        "id": "RAj9BzMES9On",
        "outputId": "f5f4e8aa-62a1-4052-f10c-186e26d6383d"
      },
      "execution_count": 87,
      "outputs": [
        {
          "output_type": "stream",
          "name": "stdout",
          "text": [
            "['dog', 'fox']\n"
          ]
        }
      ]
    },
    {
      "cell_type": "code",
      "source": [
        "# Input: “USA” | Output: True\n",
        "# Input: “aman” | Output: True\n",
        "# Input: “Google” | Output: True\n",
        "# Input: “FlaG” | Output: False\n",
        "\n",
        "\n",
        "\n",
        "\n",
        "\n",
        "def Detect_capital_letters(n):\n",
        "\n",
        "  if n.isupper():\n",
        "    return True\n",
        "  elif n.islower():\n",
        "    return True\n",
        "  # elif n[0].isupper() and n[1:].islower():\n",
        "  #       return True\n",
        "\n",
        "  # else:\n",
        "  #     return False\n",
        "\n",
        "  elif n.istitle():\n",
        "        return True\n",
        "  else:\n",
        "      return False\n",
        "\n",
        "check_input=Detect_capital_letters(\"UaabC\")\n",
        "check1=Detect_capital_letters(\"USA\")\n",
        "check2=Detect_capital_letters(\"FlaG\")\n",
        "\n",
        "print(check_input)\n",
        "print(check1)\n",
        "print(check2)"
      ],
      "metadata": {
        "colab": {
          "base_uri": "https://localhost:8080/"
        },
        "id": "ki3QC8niaypg",
        "outputId": "0701b65f-9917-4a0d-f647-b3ae15fb850f"
      },
      "execution_count": 112,
      "outputs": [
        {
          "output_type": "stream",
          "name": "stdout",
          "text": [
            "False\n",
            "True\n",
            "False\n"
          ]
        }
      ]
    },
    {
      "cell_type": "code",
      "source": [
        "n=\"AbcdF\"\n",
        "\n",
        "c=n[1:].isupper()\n",
        "print(c)"
      ],
      "metadata": {
        "colab": {
          "base_uri": "https://localhost:8080/"
        },
        "id": "a6ipc1EKheyl",
        "outputId": "af7a8151-1c91-4b47-b882-c38d9fc77177"
      },
      "execution_count": 104,
      "outputs": [
        {
          "output_type": "stream",
          "name": "stdout",
          "text": [
            "False\n"
          ]
        }
      ]
    },
    {
      "cell_type": "code",
      "source": [
        "\n",
        "def repeated_substring(string):\n",
        "\n",
        "  c=[]\n",
        "\n",
        "  if len(string)==0:\n",
        "    return False\n",
        "\n",
        "  count=''\n",
        "  duplicates_count=''\n",
        "  for i in string :\n",
        "    if i not in c:\n",
        "      c.append(i)\n",
        "      count+=i\n",
        "    else:\n",
        "      duplicates_count+=i\n",
        "\n",
        "  if count==duplicates_count:\n",
        "    return True\n",
        "  else:\n",
        "    return False\n",
        "\n",
        "\n",
        "print(repeated_substring(\"ababef\"))\n"
      ],
      "metadata": {
        "colab": {
          "base_uri": "https://localhost:8080/"
        },
        "id": "sjfNH9X3fkqZ",
        "outputId": "4aca3b40-7f57-4d2b-f6e0-5ad7a0daf401"
      },
      "execution_count": 144,
      "outputs": [
        {
          "output_type": "stream",
          "name": "stdout",
          "text": [
            "False\n"
          ]
        }
      ]
    },
    {
      "cell_type": "code",
      "source": [
        "# Input: “amankharwal” | Output: 1 (index of m)\n",
        "# Input: “aamm” |\n",
        "\n",
        "\n",
        "\n",
        "\n",
        "# def find_unique(s):\n",
        "#   d={}\n",
        "\n",
        "#   for i in s:\n",
        "#     d[i]=d.get(i,0)+1\n",
        "\n",
        "\n",
        "#   print(d)\n",
        "\n",
        "\n",
        "# find_unique(s=\"amankharwal\")\n",
        "\n",
        "\n",
        "\n",
        "\n",
        "\n",
        "from collections import Counter\n",
        "\n",
        "s=\"amankharwal\"\n",
        "counter=Counter(s)\n",
        "print(counter)\n",
        "for key,value in counter.items():\n",
        "  if value==1:\n",
        "    print(key)\n",
        "    break\n",
        "\n"
      ],
      "metadata": {
        "colab": {
          "base_uri": "https://localhost:8080/"
        },
        "id": "L8bN2Z9Fjnmy",
        "outputId": "26a99f62-308b-4847-ae96-d242ccf376ba"
      },
      "execution_count": 147,
      "outputs": [
        {
          "output_type": "stream",
          "name": "stdout",
          "text": [
            "Counter({'a': 4, 'm': 1, 'n': 1, 'k': 1, 'h': 1, 'r': 1, 'w': 1, 'l': 1})\n",
            "m\n"
          ]
        }
      ]
    },
    {
      "cell_type": "code",
      "source": [
        "def licenseKeyFormatting(s, k):\n",
        "    s = s.upper().replace('-', '')\n",
        "    print(s)\n",
        "    size = len(s)\n",
        "    s = s[::-1]\n",
        "    res = []\n",
        "    for i in range(0, size, k):\n",
        "        res.append(s[i:i+k])\n",
        "\n",
        "    return '-'.join(res)[::-1]\n",
        "\n",
        "print(licenseKeyFormatting(\"2-4A0r7-4k\", 3))"
      ],
      "metadata": {
        "colab": {
          "base_uri": "https://localhost:8080/"
        },
        "id": "LZrtZxKxrFt0",
        "outputId": "6056ceee-1085-4dc0-c88d-72840a9d3ef6"
      },
      "execution_count": 151,
      "outputs": [
        {
          "output_type": "stream",
          "name": "stdout",
          "text": [
            "24A0R74K\n",
            "24-A0R-74K\n"
          ]
        }
      ]
    },
    {
      "cell_type": "code",
      "source": [
        "def countSegments(s):\n",
        "    count = len(s.split())\n",
        "    print(s.split())\n",
        "    return count\n",
        "\n",
        "print(countSegments(\"Hey, my instagram username is amankharwal.official\"))\n"
      ],
      "metadata": {
        "colab": {
          "base_uri": "https://localhost:8080/"
        },
        "id": "5eBgmge_ty2T",
        "outputId": "5f285c5f-5b7a-4bdc-cf38-9173bfca8c0b"
      },
      "execution_count": 156,
      "outputs": [
        {
          "output_type": "stream",
          "name": "stdout",
          "text": [
            "['Hey,', 'my', 'instagram', 'username', 'is', 'amankharwal.official']\n",
            "6\n"
          ]
        }
      ]
    },
    {
      "cell_type": "code",
      "source": [
        "\n",
        "def convertToTitle(n):\n",
        "    title = \"\"\n",
        "    while n:\n",
        "        n = n - 1\n",
        "        title = chr(n % 26 + 65) + title\n",
        "        n = n // 26\n",
        "    return title\n",
        "print(convertToTitle(28))\n",
        "\n",
        "\n",
        "\n",
        ""
      ],
      "metadata": {
        "colab": {
          "base_uri": "https://localhost:8080/"
        },
        "id": "7xJZ2ALewCDQ",
        "outputId": "e475240d-fafa-47e5-a577-aaf602474455"
      },
      "execution_count": 160,
      "outputs": [
        {
          "output_type": "stream",
          "name": "stdout",
          "text": [
            "AB\n"
          ]
        }
      ]
    },
    {
      "cell_type": "code",
      "source": [
        "from collections import defaultdict\n",
        "\n",
        "def group_anagrams(a):\n",
        "    dfdict = defaultdict(list)\n",
        "    for i in a:\n",
        "        sorted_i = \" \".join(sorted(i))\n",
        "        # print(sorted_i)\n",
        "        dfdict[sorted_i].append(i)\n",
        "\n",
        "    print(dfdict)\n",
        "    return dfdict.values()\n",
        "\n",
        "\n",
        "\n",
        "words = [\"tea\", \"eat\", \"bat\", \"ate\", \"arc\", \"car\"]\n",
        "print(group_anagrams(words))\n",
        "\n",
        "\n",
        "\n"
      ],
      "metadata": {
        "colab": {
          "base_uri": "https://localhost:8080/"
        },
        "id": "U5DIqn_3wHF7",
        "outputId": "761e6e1f-523c-44ea-dea1-affbe64f6c76"
      },
      "execution_count": 163,
      "outputs": [
        {
          "output_type": "stream",
          "name": "stdout",
          "text": [
            "a e t\n",
            "a e t\n",
            "a b t\n",
            "a e t\n",
            "a c r\n",
            "a c r\n",
            "defaultdict(<class 'list'>, {'a e t': ['tea', 'eat', 'ate'], 'a b t': ['bat'], 'a c r': ['arc', 'car']})\n",
            "dict_values([['tea', 'eat', 'ate'], ['bat'], ['arc', 'car']])\n"
          ]
        }
      ]
    },
    {
      "cell_type": "code",
      "source": [
        "words = []\n",
        "with open(\"aman.txt\", \"r\") as f:\n",
        "    for line in f:\n",
        "        words.extend(line.split())\n",
        "\n",
        "from collections import Counter\n",
        "counts = Counter(words)\n",
        "top5 = counts.most_common(5)\n",
        "print(top5)"
      ],
      "metadata": {
        "id": "JIz3Q9QFO67P"
      },
      "execution_count": 164,
      "outputs": []
    },
    {
      "cell_type": "code",
      "source": [
        "# Input: [1, 2, 3, 4, 4, 6] | Output: [5, 4]\n",
        "\n",
        "\n",
        "a=[1, 2, 3, 4, 4, 6]\n",
        "\n",
        "s=0\n",
        "sett=set()\n",
        "duplicates=0\n",
        "for i in range(1,max(a)+1):\n",
        "  s+=i\n",
        "\n",
        "for i in a:\n",
        "    if i not in sett:\n",
        "      sett.add(i)\n",
        "      duplicates+=i\n",
        "    else:\n",
        "      d=i\n",
        "\n",
        "print(d)\n",
        "print(s-duplicates)\n",
        "\n",
        "\n",
        "\n",
        "\n",
        "\n",
        "\n"
      ],
      "metadata": {
        "colab": {
          "base_uri": "https://localhost:8080/"
        },
        "id": "l8nyg57rPc-9",
        "outputId": "b7807574-96c1-498c-d98c-25a549997c87"
      },
      "execution_count": 174,
      "outputs": [
        {
          "output_type": "stream",
          "name": "stdout",
          "text": [
            "4\n",
            "5\n"
          ]
        }
      ]
    },
    {
      "cell_type": "code",
      "source": [
        "import time\n",
        "\n",
        "def findErrorNums(nums):\n",
        "    n = len(nums)\n",
        "\n",
        "    duplicate = -1\n",
        "    for num in nums:\n",
        "        if nums[abs(num) - 1] < 0:\n",
        "            duplicate = abs(num)\n",
        "        else:\n",
        "            nums[abs(num) - 1] *= -1\n",
        "\n",
        "    missing = -1\n",
        "    for i in range(n):\n",
        "        if nums[i] > 0:\n",
        "            missing = i + 1\n",
        "    return [duplicate, missing]\n",
        "\n",
        "nums = [1, 2, 2, 4]\n",
        "\n",
        "# ⏱️ Start time\n",
        "start_time = time.time()\n",
        "\n",
        "# Run the function\n",
        "result = findErrorNums(nums)\n",
        "\n",
        "# ⏱️ End time\n",
        "end_time = time.time()\n",
        "\n",
        "# Output result\n",
        "print(\"Result:\", result)\n",
        "\n",
        "# Print execution time\n",
        "print(\"Time taken: {:.6f} seconds\".format(end_time - start_time))\n"
      ],
      "metadata": {
        "colab": {
          "base_uri": "https://localhost:8080/"
        },
        "id": "uD9kkhD1U_Hg",
        "outputId": "4cce6896-8eec-4fa5-f6b3-4e9513703085"
      },
      "execution_count": 175,
      "outputs": [
        {
          "output_type": "stream",
          "name": "stdout",
          "text": [
            "Result: [2, 3]\n",
            "Time taken: 0.000087 seconds\n"
          ]
        }
      ]
    },
    {
      "cell_type": "code",
      "source": [
        "from collections import defaultdict\n",
        "def minReorder(n, connections):\n",
        "    graph = defaultdict(list)\n",
        "    for u, v in connections:\n",
        "        graph[u].append((v, 1))\n",
        "        graph[v].append((u, 0))\n",
        "\n",
        "    print(graph)\n",
        "    def dfs(node):\n",
        "        nonlocal total\n",
        "        visited.add(node)\n",
        "\n",
        "        for neighbor, cost in graph[node]:\n",
        "            if neighbor not in visited:\n",
        "                total += cost\n",
        "                dfs(neighbor)\n",
        "    total = 0\n",
        "    visited = set()\n",
        "    dfs(0)\n",
        "    return total\n",
        "\n",
        "n = 6\n",
        "connections = [[0,1],[1,3],[2,3],[4,0],[4,5]]\n",
        "print(minReorder(n, connections))"
      ],
      "metadata": {
        "colab": {
          "base_uri": "https://localhost:8080/"
        },
        "id": "TFu0gdaYYo82",
        "outputId": "1f13ac5f-cca2-4fbd-9dce-40081c73d1bf"
      },
      "execution_count": 177,
      "outputs": [
        {
          "output_type": "stream",
          "name": "stdout",
          "text": [
            "defaultdict(<class 'list'>, {0: [(1, 1), (4, 0)], 1: [(0, 0), (3, 1)], 3: [(1, 0), (2, 0)], 2: [(3, 1)], 4: [(0, 1), (5, 1)], 5: [(4, 0)]})\n",
            "3\n"
          ]
        }
      ]
    },
    {
      "cell_type": "code",
      "source": [],
      "metadata": {
        "id": "QZU18eUsqON-"
      },
      "execution_count": null,
      "outputs": []
    },
    {
      "cell_type": "code",
      "source": [
        "# Input: [1,1,0,1,1,1]| Output: 3\n",
        "\n",
        "n=[1,1,0,1,1,1]\n",
        "dic={}\n",
        "\n",
        "c=1\n",
        "for i in range(len(n)-1):\n",
        "\n",
        "  if n[i]==n[i+1]:\n",
        "    c+=1\n",
        "  else:\n",
        "    dic[n[i]]=c\n",
        "    c=1\n",
        "dic[n[i]]=c\n",
        "\n",
        "print(dic)\n"
      ],
      "metadata": {
        "colab": {
          "base_uri": "https://localhost:8080/"
        },
        "id": "7By3OS6iZ9mB",
        "outputId": "025e1f87-9eeb-44af-904d-f9a82eefc994"
      },
      "execution_count": 183,
      "outputs": [
        {
          "output_type": "stream",
          "name": "stdout",
          "text": [
            "{1: 3, 0: 1}\n"
          ]
        }
      ]
    },
    {
      "cell_type": "code",
      "source": [
        "# nput: [0, 1, 0, 3, 12]\n",
        "# Output: [1, 3, 12, 0, 0]\n",
        "\n",
        "n=[0, 1, 0, 3, 12]\n",
        "m=0\n",
        "for i in range(len(n)):\n",
        "  if n[i]!=0:\n",
        "    n[m],n[i]=n[i],n[m]\n",
        "    m+=1\n",
        "\n",
        "print(n)\n"
      ],
      "metadata": {
        "colab": {
          "base_uri": "https://localhost:8080/"
        },
        "id": "x-2-6NbUvHYb",
        "outputId": "b7b7b591-e939-4f17-8f25-9f0611e7e64a"
      },
      "execution_count": 184,
      "outputs": [
        {
          "output_type": "stream",
          "name": "stdout",
          "text": [
            "[1, 3, 12, 0, 0]\n"
          ]
        }
      ]
    },
    {
      "cell_type": "code",
      "source": [
        "def plusOne(digits):\n",
        "    n = len(digits) - 1\n",
        "    while digits[n] == 9:\n",
        "        digits[n] = 0\n",
        "        n = n - 1\n",
        "    if n < 0:\n",
        "        digits = [1] + digits\n",
        "    else:\n",
        "        digits[n] = digits[n] + 1\n",
        "    return digits\n",
        "\n",
        "digits = [1, 2, 5, 7]\n",
        "print(plusOne(digits))"
      ],
      "metadata": {
        "colab": {
          "base_uri": "https://localhost:8080/"
        },
        "id": "BHz_t6P9z_4j",
        "outputId": "8048fa6b-040b-4a70-a8a8-22444ce0c06a"
      },
      "execution_count": 187,
      "outputs": [
        {
          "output_type": "stream",
          "name": "stdout",
          "text": [
            "[1, 2, 5, 8]\n"
          ]
        }
      ]
    }
  ]
}